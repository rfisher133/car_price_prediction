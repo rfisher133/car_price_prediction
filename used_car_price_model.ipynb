{
 "cells": [
  {
   "cell_type": "markdown",
   "id": "5c3baba4",
   "metadata": {},
   "source": [
    "## What Drives the price of a used car?\n",
    "\n",
    "### Predictive Model Development"
   ]
  },
  {
   "cell_type": "code",
   "execution_count": 1,
   "id": "ba4a8de6",
   "metadata": {},
   "outputs": [],
   "source": [
    "import pandas as pd\n",
    "import numpy as np\n",
    "import matplotlib.pyplot as plt\n",
    "import seaborn as sns\n",
    "from sklearn.linear_model import LinearRegression, Lasso, Ridge\n",
    "from sklearn.metrics import mean_squared_error\n",
    "from sklearn.model_selection import train_test_split, GridSearchCV\n",
    "import plotly.express as px\n",
    "from sklearn.preprocessing import OrdinalEncoder, OneHotEncoder, MinMaxScaler, StandardScaler\n",
    "from sklearn.pipeline import Pipeline\n",
    "from sklearn.model_selection import GridSearchCV\n",
    "from sklearn.feature_selection import SequentialFeatureSelector\n",
    "from sklearn.preprocessing import PolynomialFeatures\n",
    "from sklearn.pipeline import Pipeline, make_pipeline"
   ]
  },
  {
   "cell_type": "markdown",
   "id": "fe84e080",
   "metadata": {},
   "source": [
    "### Data preparation\n",
    "- Cleanup missing and null values\n",
    "- Remove redundant features\n",
    "- Clean up Numeric Features for Modeling\n",
    "- Convert Non-numeric Features to Numeric for modeling\n",
    "- Perform Feature Engineering"
   ]
  },
  {
   "cell_type": "markdown",
   "id": "a2cb7e17",
   "metadata": {},
   "source": [
    "#### Data Cleaning"
   ]
  },
  {
   "cell_type": "code",
   "execution_count": 2,
   "id": "10bf3275",
   "metadata": {},
   "outputs": [
    {
     "name": "stdout",
     "output_type": "stream",
     "text": [
      "<class 'pandas.core.frame.DataFrame'>\n",
      "Int64Index: 251922 entries, 7316814884 to 7301591129\n",
      "Data columns (total 8 columns):\n",
      " #   Column        Non-Null Count   Dtype  \n",
      "---  ------        --------------   -----  \n",
      " 0   price         251922 non-null  int64  \n",
      " 1   manufacturer  251922 non-null  object \n",
      " 2   condition     169838 non-null  object \n",
      " 3   fuel          250495 non-null  object \n",
      " 4   odometer      251922 non-null  float64\n",
      " 5   title_status  246425 non-null  object \n",
      " 6   type          251922 non-null  object \n",
      " 7   age           251922 non-null  float64\n",
      "dtypes: float64(2), int64(1), object(5)\n",
      "memory usage: 17.3+ MB\n"
     ]
    }
   ],
   "source": [
    "# Load dataset\n",
    "df = pd.read_csv('data/vehicles.csv')\n",
    "df = df.set_index('id')\n",
    "\n",
    "#drop features not to be used for the model\n",
    "df = df.drop(['VIN'], axis = 1) # VIN number is not useful, can us id instead.\n",
    "df = df.drop(['size'], axis = 1) # only 28% of dataset has information on the size,so drop. \n",
    "\n",
    "# drop object features not to be used\n",
    "df = df.drop(['region','transmission','state','paint_color','model','cylinders','drive'], axis = 1) \n",
    "\n",
    "# Drop rows with null value in the main features to be used \n",
    "df = df.dropna(subset = ['year','odometer','manufacturer','type'])\n",
    "df= df[df.year != 0]\n",
    "\n",
    "# Change year to age of car based on 2023 being 0 years age\n",
    "df['age'] = 2023-df['year']\n",
    "df=df.drop(['year'], axis = 1)\n",
    "\n",
    "# After reviewing prices there are some zero prices and some outliers up to 1 e9. only keep i the range of 100 < price < $160K\n",
    "df = df.query('price > 100 and price < 160_000')\n",
    "\n",
    "#Remove odometer readings under 100 and over 160000\n",
    "df = df.query('odometer > 100 and odometer < 160000')\n",
    "df.info()"
   ]
  },
  {
   "cell_type": "markdown",
   "id": "89e3be62",
   "metadata": {},
   "source": [
    "#### Feature Engineering"
   ]
  },
  {
   "cell_type": "code",
   "execution_count": 3,
   "id": "4d835eff",
   "metadata": {},
   "outputs": [],
   "source": [
    "#transform features to numeric \n",
    "\n",
    "#Condition - Fill in missing with 'good', use Ordinal Encoding\n",
    "df[['condition']] = df[['condition']].fillna('good')\n",
    "ordinal_features = ['condition']\n",
    "ordinal_transformer = OrdinalEncoder(categories=[['salvage', 'fair', 'good','excellent','like new','new']])\n",
    "df[ordinal_features] = ordinal_transformer.fit_transform(df[ordinal_features])\n",
    "\n",
    "#Fuel - Fill in missing with 'good', use Ordinal Encoding\n",
    "df[['fuel']] = df[['fuel']].fillna('gas')\n",
    "ordinal_features = ['fuel']\n",
    "ordinal_transformer = OrdinalEncoder(categories=[['hybrid', 'other', 'gas','electric','diesel']])\n",
    "df[ordinal_features] = ordinal_transformer.fit_transform(df[ordinal_features])\n",
    "\n",
    "#Title Status - Fill in missing with 'good', use Ordinal Encoding\n",
    "df[['title_status']] = df[['title_status']].fillna('salvage')\n",
    "ordinal_features = ['title_status']\n",
    "ordinal_transformer = OrdinalEncoder(categories=[['missing', 'parts only', 'salvage','rebuilt','clean','lien']])\n",
    "df[ordinal_features] = ordinal_transformer.fit_transform(df[ordinal_features])\n",
    "\n",
    "# Creating dummy variables for the variable 'Manufacturer'. \n",
    "dp = pd.get_dummies(df['manufacturer'], prefix='manufacturer')\n",
    "# Adding the results to the master dataframe\n",
    "df = pd.concat([df,dp], axis=1)\n",
    "df = df.drop(['manufacturer'], axis = 1)\n",
    "\n",
    "# Creating dummy variables for the variable 'type'. \n",
    "dp = pd.get_dummies(df['type'], prefix='type')\n",
    "# Adding the results to the master dataframe\n",
    "df = pd.concat([df,dp], axis=1) \n",
    "df = df.drop(['type'], axis = 1)"
   ]
  },
  {
   "cell_type": "markdown",
   "id": "41f549e5",
   "metadata": {},
   "source": [
    "### Modeling"
   ]
  },
  {
   "cell_type": "code",
   "execution_count": 17,
   "id": "08468a60",
   "metadata": {},
   "outputs": [],
   "source": [
    "#Split the data for training and testing\n",
    "X = df.drop('price', axis = 1)\n",
    "y = df['price']\n",
    "X_train,X_test, y_train, y_test = train_test_split(X, y, test_size=0.3, random_state=42)"
   ]
  },
  {
   "cell_type": "markdown",
   "id": "fed3b94c",
   "metadata": {},
   "source": [
    "#### Linear Regression Model"
   ]
  },
  {
   "cell_type": "code",
   "execution_count": 21,
   "id": "bd0166ed",
   "metadata": {},
   "outputs": [
    {
     "name": "stdout",
     "output_type": "stream",
     "text": [
      "multiple linear regression with degree = 1\n",
      "Train Accuracy:  54.8\n",
      "Train RMSE:      9753.05\n",
      "Test Accuracy:  55.07\n",
      "Test RMSE:      9701.95\n"
     ]
    },
    {
     "data": {
      "text/html": [
       "<div>\n",
       "<style scoped>\n",
       "    .dataframe tbody tr th:only-of-type {\n",
       "        vertical-align: middle;\n",
       "    }\n",
       "\n",
       "    .dataframe tbody tr th {\n",
       "        vertical-align: top;\n",
       "    }\n",
       "\n",
       "    .dataframe thead th {\n",
       "        text-align: right;\n",
       "    }\n",
       "</style>\n",
       "<table border=\"1\" class=\"dataframe\">\n",
       "  <thead>\n",
       "    <tr style=\"text-align: right;\">\n",
       "      <th></th>\n",
       "      <th>Coefficients</th>\n",
       "    </tr>\n",
       "  </thead>\n",
       "  <tbody>\n",
       "    <tr>\n",
       "      <th>manufacturer_ferrari</th>\n",
       "      <td>67239.758978</td>\n",
       "    </tr>\n",
       "    <tr>\n",
       "      <th>manufacturer_morgan</th>\n",
       "      <td>26739.581991</td>\n",
       "    </tr>\n",
       "    <tr>\n",
       "      <th>manufacturer_aston-martin</th>\n",
       "      <td>24025.544643</td>\n",
       "    </tr>\n",
       "    <tr>\n",
       "      <th>manufacturer_tesla</th>\n",
       "      <td>10550.097200</td>\n",
       "    </tr>\n",
       "    <tr>\n",
       "      <th>manufacturer_porsche</th>\n",
       "      <td>10197.509023</td>\n",
       "    </tr>\n",
       "    <tr>\n",
       "      <th>type_truck</th>\n",
       "      <td>8674.632585</td>\n",
       "    </tr>\n",
       "    <tr>\n",
       "      <th>type_pickup</th>\n",
       "      <td>7002.332570</td>\n",
       "    </tr>\n",
       "    <tr>\n",
       "      <th>manufacturer_datsun</th>\n",
       "      <td>5549.429314</td>\n",
       "    </tr>\n",
       "    <tr>\n",
       "      <th>manufacturer_rover</th>\n",
       "      <td>4730.828774</td>\n",
       "    </tr>\n",
       "    <tr>\n",
       "      <th>fuel</th>\n",
       "      <td>3313.259988</td>\n",
       "    </tr>\n",
       "  </tbody>\n",
       "</table>\n",
       "</div>"
      ],
      "text/plain": [
       "                           Coefficients\n",
       "manufacturer_ferrari       67239.758978\n",
       "manufacturer_morgan        26739.581991\n",
       "manufacturer_aston-martin  24025.544643\n",
       "manufacturer_tesla         10550.097200\n",
       "manufacturer_porsche       10197.509023\n",
       "type_truck                  8674.632585\n",
       "type_pickup                 7002.332570\n",
       "manufacturer_datsun         5549.429314\n",
       "manufacturer_rover          4730.828774\n",
       "fuel                        3313.259988"
      ]
     },
     "execution_count": 21,
     "metadata": {},
     "output_type": "execute_result"
    }
   ],
   "source": [
    "#Multiple Linear Regression Model\n",
    "\n",
    "reg_model=LinearRegression()\n",
    "reg_model.fit(X_train, y_train)\n",
    "\n",
    "#create predictions\n",
    "train_preds = reg_model.predict(X_train)\n",
    "test_preds = reg_model.predict(X_test)\n",
    "\n",
    "#score model\n",
    "print(\"multiple linear regression with degree = 1\")\n",
    "score = reg_model.score(X_train, y_train)\n",
    "print(\"Train Accuracy: \", round(score*100, 2))\n",
    "print(\"Train RMSE:     \",round(np.sqrt(mean_squared_error(y_train,train_preds)), 2))\n",
    "score_test = reg_model.score(X_test, y_test)\n",
    "print(\"Test Accuracy: \", round(score_test*100, 2))\n",
    "print(\"Test RMSE:     \",round(np.sqrt(mean_squared_error(y_test,test_preds)), 2))\n",
    "coef = pd.DataFrame(reg_model.coef_, X_train.columns, columns = ['Coefficients'])\n",
    "coef_list = coef.sort_values(by = ['Coefficients'], ascending = False)\n",
    "coef_list.head(10)"
   ]
  },
  {
   "cell_type": "markdown",
   "id": "a97c5668",
   "metadata": {},
   "source": [
    "#### Polynomial Regression Model"
   ]
  },
  {
   "cell_type": "code",
   "execution_count": 24,
   "id": "6da0b989",
   "metadata": {},
   "outputs": [
    {
     "name": "stdout",
     "output_type": "stream",
     "text": [
      "Polynomial regression with degree = 2\n",
      "Train Accuracy:  67.51\n",
      "Train RMSE:  8269.35\n",
      "Test Accuracy:  67.21\n",
      "Test RMSE:  8288.27\n"
     ]
    },
    {
     "data": {
      "text/html": [
       "<div>\n",
       "<style scoped>\n",
       "    .dataframe tbody tr th:only-of-type {\n",
       "        vertical-align: middle;\n",
       "    }\n",
       "\n",
       "    .dataframe tbody tr th {\n",
       "        vertical-align: top;\n",
       "    }\n",
       "\n",
       "    .dataframe thead th {\n",
       "        text-align: right;\n",
       "    }\n",
       "</style>\n",
       "<table border=\"1\" class=\"dataframe\">\n",
       "  <thead>\n",
       "    <tr style=\"text-align: right;\">\n",
       "      <th></th>\n",
       "      <th>Coefficients</th>\n",
       "    </tr>\n",
       "  </thead>\n",
       "  <tbody>\n",
       "    <tr>\n",
       "      <th>condition type_bus</th>\n",
       "      <td>351851.552167</td>\n",
       "    </tr>\n",
       "    <tr>\n",
       "      <th>condition type_offroad</th>\n",
       "      <td>351504.200228</td>\n",
       "    </tr>\n",
       "    <tr>\n",
       "      <th>condition type_van</th>\n",
       "      <td>351391.906696</td>\n",
       "    </tr>\n",
       "    <tr>\n",
       "      <th>condition type_coupe</th>\n",
       "      <td>350908.533183</td>\n",
       "    </tr>\n",
       "    <tr>\n",
       "      <th>condition type_mini-van</th>\n",
       "      <td>350368.439029</td>\n",
       "    </tr>\n",
       "    <tr>\n",
       "      <th>condition type_hatchback</th>\n",
       "      <td>350141.240518</td>\n",
       "    </tr>\n",
       "    <tr>\n",
       "      <th>condition type_wagon</th>\n",
       "      <td>350015.889400</td>\n",
       "    </tr>\n",
       "    <tr>\n",
       "      <th>condition type_truck</th>\n",
       "      <td>350004.965336</td>\n",
       "    </tr>\n",
       "    <tr>\n",
       "      <th>condition type_SUV</th>\n",
       "      <td>349903.321328</td>\n",
       "    </tr>\n",
       "    <tr>\n",
       "      <th>condition type_sedan</th>\n",
       "      <td>349726.407500</td>\n",
       "    </tr>\n",
       "  </tbody>\n",
       "</table>\n",
       "</div>"
      ],
      "text/plain": [
       "                           Coefficients\n",
       "condition type_bus        351851.552167\n",
       "condition type_offroad    351504.200228\n",
       "condition type_van        351391.906696\n",
       "condition type_coupe      350908.533183\n",
       "condition type_mini-van   350368.439029\n",
       "condition type_hatchback  350141.240518\n",
       "condition type_wagon      350015.889400\n",
       "condition type_truck      350004.965336\n",
       "condition type_SUV        349903.321328\n",
       "condition type_sedan      349726.407500"
      ]
     },
     "execution_count": 24,
     "metadata": {},
     "output_type": "execute_result"
    }
   ],
   "source": [
    "#polynomial Regression\n",
    "\n",
    "#setup pipeline and fit model\n",
    "pipe = Pipeline([('quad_features', PolynomialFeatures(degree = 2)), \n",
    "                 ('model', LinearRegression())])\n",
    "\n",
    "pipe.fit(X_train, y_train)\n",
    "\n",
    "# scoring\n",
    "print(\"Polynomial regression with degree = 2\")\n",
    "score_train = pipe.score(X_train, y_train)\n",
    "score_test = pipe.score(X_test,y_test)\n",
    "print(\"Train Accuracy: \", round(score_train*100, 2))\n",
    "train_rmse = round(np.sqrt((mean_squared_error(y_train, pipe.predict(X_train)))),2)\n",
    "test_rmse = round(np.sqrt((mean_squared_error(y_test, pipe.predict(X_test)))),2)\n",
    "print(\"Train RMSE: \",train_rmse)\n",
    "print(\"Test Accuracy: \", round(score_test*100, 2))\n",
    "print(\"Test RMSE: \",test_rmse)\n",
    "coef = pd.DataFrame(pipe.named_steps['model'].coef_, pipe.named_steps['quad_features'].get_feature_names_out(), columns = ['Coefficients'])\n",
    "coef_list = coef.sort_values(by = ['Coefficients'], ascending = False)\n",
    "coef_list.head(10)"
   ]
  },
  {
   "cell_type": "code",
   "execution_count": null,
   "id": "74443a1f",
   "metadata": {},
   "outputs": [],
   "source": []
  },
  {
   "cell_type": "markdown",
   "id": "a76a3fa6",
   "metadata": {},
   "source": [
    "#### Sequential Feature Selection \n",
    "Polynomial features- multiple Linear Regression"
   ]
  },
  {
   "cell_type": "code",
   "execution_count": 26,
   "id": "00159be7",
   "metadata": {},
   "outputs": [
    {
     "name": "stdout",
     "output_type": "stream",
     "text": [
      "Sequential Selection Polynomial regression\n",
      "Train Accuracy:  49.22\n",
      "Train RMSE:  10337.64\n",
      "Test Accuracy:  49.54\n",
      "Test RMSE:  10282.11\n"
     ]
    }
   ],
   "source": [
    "#Sequential feature selection\n",
    "#Features number set to reduce overfitting\n",
    "#Create Pipeline\n",
    "sequential_pipe = Pipeline([('scaler', StandardScaler()),\n",
    "                            ('poly_features', PolynomialFeatures(degree = 2, include_bias = False)),\n",
    "                           ('selector', SequentialFeatureSelector(LinearRegression(), \n",
    "                                                                  n_features_to_select=5)),\n",
    "                           ('linreg', LinearRegression())])\n",
    "#Fit Model\n",
    "sequential_pipe.fit(X_train,y_train)\n",
    "\n",
    "#Score Model\n",
    "print(\"Sequential Selection Polynomial regression\")\n",
    "score_train = sequential_pipe.score(X_train, y_train)\n",
    "score_test = sequential_pipe.score(X_test,y_test)\n",
    "print(\"Train Accuracy: \", round(score_train*100, 2))\n",
    "train_rmse = round(np.sqrt((mean_squared_error(y_train, sequential_pipe.predict(X_train)))),2)\n",
    "test_rmse = round(np.sqrt((mean_squared_error(y_test, sequential_pipe.predict(X_test)))),2)\n",
    "print(\"Train RMSE: \",train_rmse)\n",
    "print(\"Test Accuracy: \", round(score_test*100, 2))\n",
    "print(\"Test RMSE: \",test_rmse)"
   ]
  },
  {
   "cell_type": "markdown",
   "id": "69f38770",
   "metadata": {},
   "source": [
    "#### Gridge Search over Ridge Regression"
   ]
  },
  {
   "cell_type": "code",
   "execution_count": 52,
   "id": "a58fedb8",
   "metadata": {},
   "outputs": [
    {
     "name": "stdout",
     "output_type": "stream",
     "text": [
      "Ridge regression\n",
      "Train Accuracy:  54.8\n",
      "Train RMSE:  9753.05\n",
      "Test Accuracy:  55.07\n",
      "Test RMSE:  9701.95\n"
     ]
    }
   ],
   "source": [
    "# Grid Search with Ridge Regression\n",
    "\n",
    "# Set grid parameters, alpha values for Ridge Regression\n",
    "ridge_param_dict = {'ridge__alpha': [0.1,1,10,100]}\n",
    "\n",
    "# Create Pipeline\n",
    "ridge_pipe = Pipeline([('scaler', StandardScaler()), \n",
    "                      ('ridge', Ridge())])\n",
    "# Create Grid Search\n",
    "ridge_grid = GridSearchCV(ridge_pipe, param_grid=ridge_param_dict)\n",
    "\n",
    "#fit Model\n",
    "ridge_grid.fit(X_train, y_train)\n",
    "\n",
    "#Score Model\n",
    "print(\"Ridge regression\")\n",
    "score_train = ridge_grid.score(X_train, y_train)\n",
    "score_test = ridge_grid.score(X_test,y_test)\n",
    "print(\"Train Accuracy: \", round(score_train*100, 2))\n",
    "train_rmse = round(np.sqrt((mean_squared_error(y_train, ridge_grid.predict(X_train)))),2)\n",
    "test_rmse = round(np.sqrt((mean_squared_error(y_test, ridge_grid.predict(X_test)))),2)\n",
    "print(\"Train RMSE: \",train_rmse)\n",
    "print(\"Test Accuracy: \", round(score_test*100, 2))\n",
    "print(\"Test RMSE: \",test_rmse)\n"
   ]
  }
 ],
 "metadata": {
  "kernelspec": {
   "display_name": "Python 3 (ipykernel)",
   "language": "python",
   "name": "python3"
  },
  "language_info": {
   "codemirror_mode": {
    "name": "ipython",
    "version": 3
   },
   "file_extension": ".py",
   "mimetype": "text/x-python",
   "name": "python",
   "nbconvert_exporter": "python",
   "pygments_lexer": "ipython3",
   "version": "3.11.4"
  }
 },
 "nbformat": 4,
 "nbformat_minor": 5
}
